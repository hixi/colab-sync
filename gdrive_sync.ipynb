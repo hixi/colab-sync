{
 "cells": [
  {
   "cell_type": "code",
   "execution_count": null,
   "metadata": {},
   "outputs": [],
   "source": [
    "from google.colab import drive\n",
    "drive.mount('/content/drive')\n",
    "\n",
    "root_dir = \"/content/drive/My Drive/\"\n",
    "base_dir = root_dir + 'ml-basics/'\n",
    "\n",
    "!wget -O /tmp/ml-basics.zip https://git.datanic.ch/datanic/ml-basics/archive/master.zip\n",
    "!unzip -n -d \"$base_dir\" /tmp/ml-basics.zip\n",
    "!rm /tmp/ml-basics.zip\n"
   ]
  }
 ],
 "metadata": {
  "kernelspec": {
   "display_name": "Python 3",
   "language": "python",
   "name": "python3"
  },
  "language_info": {
   "codemirror_mode": {
    "name": "ipython",
    "version": 3
   },
   "file_extension": ".py",
   "mimetype": "text/x-python",
   "name": "python",
   "nbconvert_exporter": "python",
   "pygments_lexer": "ipython3",
   "version": "3.7.4"
  }
 },
 "nbformat": 4,
 "nbformat_minor": 4
}
